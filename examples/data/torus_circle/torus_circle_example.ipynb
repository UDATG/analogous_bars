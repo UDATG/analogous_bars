{
 "cells": [
  {
   "cell_type": "markdown",
   "id": "vocal-concept",
   "metadata": {},
   "source": [
    "# Torus-circle example\n",
    "See the following notebooks: \n",
    "* `examples/EXAMPLE_EXTENSION_W_VR.ipynb`\n",
    "* `examples/EXAMPLE_FEATURE_CENTRIC_ANALOGOUS_BARS.ipynb`\n",
    "* `examples/EXAMPLE_SIMILARITY_CENTRIC_ANALOGOUS_BARS.ipynb`"
   ]
  }
 ],
 "metadata": {
  "kernelspec": {
   "display_name": "Julia 1.5.3",
   "language": "julia",
   "name": "julia-1.5"
  },
  "language_info": {
   "file_extension": ".jl",
   "mimetype": "application/julia",
   "name": "julia",
   "version": "1.5.3"
  }
 },
 "nbformat": 4,
 "nbformat_minor": 5
}
